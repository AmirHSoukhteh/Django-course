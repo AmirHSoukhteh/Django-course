{
 "cells": [
  {
   "cell_type": "markdown",
   "metadata": {},
   "source": [
    "# <center><span style=\"color:yellow\">DataStructure & Algoritm I</span> </center>\n",
    "### <center><span style=\"color:red\">Stack, Queue</span> </center>"
   ]
  },
  {
   "cell_type": "markdown",
   "metadata": {},
   "source": [
    "![Stack](https://cdn.programiz.com/sites/tutorial2program/files/stack-operations.png)"
   ]
  },
  {
   "cell_type": "code",
   "execution_count": null,
   "metadata": {},
   "outputs": [],
   "source": [
    "# stack implement in python\n",
    "\n",
    "# creating a stack\n",
    "def create_stack():\n",
    "    stack = []\n",
    "    return stack\n",
    "\n",
    "# creating an empty stack\n",
    "def check_empty(stack):\n",
    "    return len(stack)==0\n",
    "\n",
    "#adding items into the stack\n",
    "def push(stack, item):\n",
    "    stack.append(item)\n",
    "    print(\"pushed item: \" + item)\n",
    "\n",
    "#removing an element from stack\n",
    "def pop(stack):\n",
    "    if(check_empty(stack)):\n",
    "        return \"stack is empty\"\n",
    "    return stack.pop()\n",
    "\n",
    "stack = create_stack()\n",
    "push(stack, str(1))\n",
    "push(stack, str(2))\n",
    "push(stack, str(3))\n",
    "push(stack, str(4))\n",
    "print(\"popped item: \" + pop(stack))\n",
    "print(\"stack after popping an element: \" + str(stack))"
   ]
  },
  {
   "cell_type": "markdown",
   "metadata": {},
   "source": [
    "## Applications of Stack Data Structure\n",
    "\n",
    "\n",
    "**To reverse a word** - Put all the letters in a stack and pop them out. Because of the LIFO order of stack, you will get the letters in reverse order.       \n",
    "**In compilers** - Compilers use the stack to calculate the value of expressions like 2 + 4 / 5 * (7 - 9) by converting the expression to prefix or postfix form.       \n",
    "**In browsers** - The back button in a browser saves all the URLs you have visited previously in a stack. Each time you visit a new page, it is added on top of the stack. When you press the back button, the current URL is removed from the stack, and the previous URL is accessed."
   ]
  },
  {
   "cell_type": "markdown",
   "metadata": {},
   "source": [
    "![Queue](https://cdn.programiz.com/sites/tutorial2program/files/Queue-program-enqueue-dequeue.png)"
   ]
  },
  {
   "cell_type": "markdown",
   "metadata": {},
   "source": [
    "# Applications of Queue\n",
    "CPU scheduling, Disk Scheduling     \n",
    "When data is transferred asynchronously between two processes.The queue is used for synchronization. For example: IO Buffers, pipes, file IO, etc       \n",
    "Handling of interrupts in real-time systems.      \n",
    "Call Center phone systems use Queues to hold people calling them in order.        \n"
   ]
  },
  {
   "cell_type": "code",
   "execution_count": null,
   "metadata": {},
   "outputs": [],
   "source": [
    "class Queue:\n",
    "\n",
    "    def __init__(self):\n",
    "        self.queue = []\n",
    "    \n",
    "    # Add an element\n",
    "    def enqueue(self, item):\n",
    "        self.queue.append(item)\n",
    "    \n",
    "    # Remove an element\n",
    "    def dequeue(self):\n",
    "        if len(self.queue) < 1:\n",
    "            return None\n",
    "        return self.queue.pop(0)\n",
    "    \n",
    "    #Display the queue\n",
    "    def display(self):\n",
    "        print(self.queue)\n",
    "\n",
    "    def size(self):\n",
    "        print(len(self.queue))\n",
    "\n",
    "\n",
    "q = Queue()\n",
    "q.enqueue(1)\n",
    "q.enqueue(2)\n",
    "q.enqueue(3)\n",
    "q.enqueue(4)\n",
    "q.enqueue(5)\n",
    "\n",
    "q.display()\n",
    "\n",
    "q.dequeue()\n",
    "\n",
    "print(\"After removing an element\")\n",
    "q.display()\n"
   ]
  },
  {
   "cell_type": "markdown",
   "metadata": {},
   "source": [
    "![Circular Queue](https://cdn.programiz.com/sites/tutorial2program/files/circular-increment.png)\n",
    "![Ammm](https://cdn.programiz.com/sites/tutorial2program/files/circular-queue-program.png)"
   ]
  },
  {
   "cell_type": "code",
   "execution_count": 31,
   "metadata": {},
   "outputs": [],
   "source": [
    "# Circular Queue implementation in Python\n",
    "class MyCircularQueue():\n",
    "    def __init__(self, k):\n",
    "        self.k = k\n",
    "        self.queue = [None]*k\n",
    "        self.head = self.tail = -1\n",
    "    \n",
    "    # Insert an element into the Circular Queue\n",
    "    def enqueue(self, data):\n",
    "\n",
    "        if ((self.tail + 1) % self.k == self.head):\n",
    "            print(\"The Circular Queue is full \\n\")\n",
    "        \n",
    "        elif(self.head == -1):\n",
    "            self.head = 0\n",
    "            self.tail = 0\n",
    "            self.queue[self.tail] = data\n",
    "        else:\n",
    "            self.tail = (self.tail + 1) % self.k\n",
    "            self.queue[self.tail] = data\n",
    "\n",
    "    # Delete an element from Circular Queue\n",
    "    def dequeue(self):\n",
    "        \n",
    "        if(self.head == -1):\n",
    "            print(\"the Circular Queue is empty\")\n",
    "        elif(self.head == self.tail):\n",
    "            temp = self.queue[self.head]\n",
    "            self.head = -1\n",
    "            self.tail = -1\n",
    "            return temp\n",
    "        else:\n",
    "            temp = self.queue[self.head]\n",
    "            self.head = (self.head + 1) % self.k\n",
    "            return temp\n",
    "    def printCQueue(self):\n",
    "\n",
    "        if(self.head == -1):\n",
    "            print(\"No element in the Circular Queue\")\n",
    "        elif(self.tail >= self.head):\n",
    "            for i in range(self.head, self.tail+1):\n",
    "                print(self.queue[i], end=\" \")\n",
    "            print()\n",
    "        else:\n",
    "            for i in range(self.head, self.k):\n",
    "                print(self.queue[i], end=\" \")\n",
    "            for i in range(0, self.tail+1):\n",
    "                print(self.queue[i], end=\" \")\n",
    "            print()\n",
    "        print(\"queue: \" , self.queue)        "
   ]
  },
  {
   "cell_type": "code",
   "execution_count": 32,
   "metadata": {},
   "outputs": [
    {
     "name": "stdout",
     "output_type": "stream",
     "text": [
      "Initial queue\n",
      "1 2 3 4 5 \n",
      "queue:  [1, 2, 3, 4, 5]\n",
      "After removing an element from the queue\n",
      "2 3 4 5 \n",
      "queue:  [1, 2, 3, 4, 5]\n"
     ]
    }
   ],
   "source": [
    "# Your MyCircularQueue object will be instantiated and called as such:\n",
    "obj = MyCircularQueue(5)\n",
    "obj.enqueue(1)\n",
    "obj.enqueue(2)\n",
    "obj.enqueue(3)\n",
    "obj.enqueue(4)\n",
    "obj.enqueue(5)\n",
    "\n",
    "print(\"Initial queue\")\n",
    "obj.printCQueue()\n",
    "\n",
    "obj.dequeue()\n",
    "print(\"After removing an element from the queue\")\n",
    "obj.printCQueue()"
   ]
  }
 ],
 "metadata": {
  "kernelspec": {
   "display_name": "Python 3",
   "language": "python",
   "name": "python3"
  },
  "language_info": {
   "codemirror_mode": {
    "name": "ipython",
    "version": 3
   },
   "file_extension": ".py",
   "mimetype": "text/x-python",
   "name": "python",
   "nbconvert_exporter": "python",
   "pygments_lexer": "ipython3",
   "version": "3.10.12"
  }
 },
 "nbformat": 4,
 "nbformat_minor": 2
}
