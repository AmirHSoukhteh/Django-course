{
 "cells": [
  {
   "cell_type": "markdown",
   "metadata": {},
   "source": [
    "## File text\n",
    "\n",
    "### open(r\"file_name\", \"Access_mode\")\n",
    "\n",
    "```py\n",
    "input = r\"addres\"\n",
    "with open(input) as f:\n",
    "lines = f.readlines()\n",
    "```\n",
    "### or\n",
    "### as **f** is a <span style=\"color:yellow\">object</span> we can.\n",
    "```py\n",
    "for l in f:\n",
    "    print(l)\n",
    "```\n"
   ]
  },
  {
   "cell_type": "code",
   "execution_count": null,
   "metadata": {},
   "outputs": [],
   "source": [
    "with open(\"data01.txt\") as f:\n",
    "    lines = f.readlines()\n",
    "lines"
   ]
  },
  {
   "cell_type": "code",
   "execution_count": null,
   "metadata": {},
   "outputs": [],
   "source": [
    "with open(\"data01.txt\") as f:\n",
    "#    for l in f:\n",
    "#        print(l)\n",
    "    content = f.read()\n",
    "content"
   ]
  },
  {
   "cell_type": "markdown",
   "metadata": {},
   "source": [
    "## Write\n",
    "<p> \n",
    "    be cearfull to use this if file exist, it's gonna \n",
    "    <span style=\"color:red\">\n",
    "        <strong>remove</strong>\n",
    "    </span>\n",
    "    everything\n",
    "    <span style=\"color:yellow\">\n",
    "        to do what you say do.\n",
    "    </span>\n",
    "</p>\n",
    "\n",
    "\n",
    "\n",
    "\n",
    "### **mode**:\n",
    "> r = read  \n",
    "> w = write  \n",
    "> a = append  \n",
    "\n"
   ]
  },
  {
   "cell_type": "code",
   "execution_count": 30,
   "metadata": {},
   "outputs": [],
   "source": [
    "l = [\"amir\", \"hossein\", \"university\", \"money\"]\n",
    "\n",
    "with open(\"data02.txt\", 'a') as f:\n",
    "    for i in l:\n",
    "        f.write(i)\n",
    "        f.write(\"\\n\")\n",
    "    #f.write(\"\\n\".join(l))"
   ]
  },
  {
   "cell_type": "markdown",
   "metadata": {},
   "source": [
    "# MINI PROJECT\n",
    "\n",
    "### csv file name is data03, you must rewrite this file to dictionry"
   ]
  },
  {
   "cell_type": "code",
   "execution_count": null,
   "metadata": {},
   "outputs": [],
   "source": [
    "with open(\"data03.csv\", 'r') as f:\n",
    "    content = f.readlines()\n",
    "    headers = content[0][:-1].split(\",\")[:2]\n",
    "    d = {}\n",
    "    j = 0\n",
    "    for header in headers:\n",
    "        d[header] = []\n",
    "        for i in content[1:]:\n",
    "            d[header].append(i[:-1].split(\",\")[j].strip())\n",
    "        j+=1\n",
    "\n",
    "print(d)\n"
   ]
  }
 ],
 "metadata": {
  "kernelspec": {
   "display_name": "v",
   "language": "python",
   "name": "python3"
  },
  "language_info": {
   "codemirror_mode": {
    "name": "ipython",
    "version": 3
   },
   "file_extension": ".py",
   "mimetype": "text/x-python",
   "name": "python",
   "nbconvert_exporter": "python",
   "pygments_lexer": "ipython3",
   "version": "3.10.12"
  }
 },
 "nbformat": 4,
 "nbformat_minor": 2
}
